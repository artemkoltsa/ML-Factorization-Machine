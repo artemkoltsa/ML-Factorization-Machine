{
 "cells": [
  {
   "cell_type": "markdown",
   "metadata": {},
   "source": [
    "# Кольца Артем М.19-04\n",
    "\n",
    "### Факторизационная машина и датасет от Netflix Prize\n",
    "\n",
    "### Задание №2"
   ]
  },
  {
   "cell_type": "code",
   "execution_count": 1,
   "metadata": {},
   "outputs": [],
   "source": [
    "import numpy as np\n",
    "import time\n",
    "from scipy.sparse import load_npz, issparse\n",
    "import pandas as pd"
   ]
  },
  {
   "cell_type": "code",
   "execution_count": 2,
   "metadata": {},
   "outputs": [],
   "source": [
    "def cross_validation(X, n_samples=5):\n",
    "    indices = np.arange(X.shape[0])\n",
    "    np.random.shuffle(indices)\n",
    "    sample_size = X.shape[0] // n_samples\n",
    "    \n",
    "    for i in range(1, n_samples):\n",
    "        test = np.zeros(X.shape[0], dtype=bool)\n",
    "        test[indices[(i - 1) * sample_size : i * sample_size]] = True\n",
    "        train = ~test\n",
    "        yield train, test\n",
    "    \n",
    "    test = np.zeros(X.shape[0], dtype=bool)\n",
    "    test[indices[(n_samples - 1) * sample_size :]] = True\n",
    "    train = ~test\n",
    "    yield train, test"
   ]
  },
  {
   "cell_type": "code",
   "execution_count": 3,
   "metadata": {},
   "outputs": [],
   "source": [
    "def mserror(y, y_pred):\n",
    "    return ((y_pred-y)**2).sum()/len(y)\n",
    "\n",
    "def rmserror(y, y_pred):\n",
    "    return np.sqrt(mserror(y, y_pred))"
   ]
  },
  {
   "cell_type": "code",
   "execution_count": 4,
   "metadata": {},
   "outputs": [],
   "source": [
    "class FactorizationMachine(object):\n",
    "    def __init__(self, step=0.000001, k=5):\n",
    "        self.k = k\n",
    "        self.w0 = 0\n",
    "        self.W = None\n",
    "        self.V = None\n",
    "        self.Z = None\n",
    "        self.X2 = None\n",
    "        self.initStep = step\n",
    "        self.step = self.initStep\n",
    "\n",
    "    def predict(self, X):\n",
    "        self.Z = X @ self.V\n",
    "        if issparse(X):\n",
    "            self.X2 = X.power(2)\n",
    "        else:\n",
    "            self.X2 = X**2\n",
    "        return self.w0 + X @ self.W + np.sum(self.Z**2 - (self.X2 @ self.V**2), axis=1, keepdims=True) / 2\n",
    "\n",
    "    def get_batches(self, dataset, batch_size):\n",
    "        X, Y = dataset\n",
    "        n_samples = X.shape[0]\n",
    "        \n",
    "        indices = np.arange(n_samples)\n",
    "        np.random.shuffle(indices)\n",
    "\n",
    "        for start in range(0, n_samples, batch_size):\n",
    "            end = min(start + batch_size, n_samples)\n",
    "            batch_idx = indices[start:end]\n",
    "\n",
    "            yield X[batch_idx], Y[batch_idx]\n",
    "\n",
    "    def update_learning_rate(self, epoch):\n",
    "        self.step = self.initStep / np.sqrt(epoch + 1)\n",
    "\n",
    "    def fit(self, X, y, n_epoch=2, batch_size=128):\n",
    "        n, d = X.shape\n",
    "\n",
    "        stdv = 1 / np.sqrt(n)\n",
    "        self.W = np.random.uniform(-stdv, stdv, size=(d, 1))\n",
    "        self.V = np.random.uniform(-stdv, stdv, size=(d, self.k))\n",
    "    \n",
    "        for i in range(n_epoch):\n",
    "            for x_batch, y_batch in self.get_batches((X, y), batch_size):\n",
    "                self.update_learning_rate(i)\n",
    "                predictions = self.predict(x_batch)\n",
    "                dLoss = 2 * np.subtract(predictions, y_batch.reshape(-1, 1)) / len(y_batch)\n",
    "\n",
    "                self.w0 -= np.multiply(self.step, np.sum(dLoss))\n",
    "                \n",
    "                self.W -= np.multiply(self.step, x_batch.transpose() @ dLoss)\n",
    "\n",
    "                np.multiply(self.step, dLoss, out=dLoss)\n",
    "                for j in range(self.k):\n",
    "                    if issparse(x_batch):\n",
    "                        dV = x_batch.multiply(self.Z[:, j].reshape(-1, 1))\n",
    "                        dV -= self.X2.multiply(self.V[:, j])\n",
    "                    else:\n",
    "                        dV = np.multiply(x_batch, self.Z[:, j].reshape(-1, 1))\n",
    "                        np.subtract(dV, np.multiply(self.X2, self.V[:, j]), out=dV)\n",
    "                    self.V[:,j] -= dLoss.reshape(-1) @ dV"
   ]
  },
  {
   "cell_type": "code",
   "execution_count": 5,
   "metadata": {},
   "outputs": [],
   "source": [
    "# загрузка данных\n",
    "X = load_npz(\"sparse_X_1_file.npz\")\n",
    "y = np.load(\"y_1_file.npz\")[\"arr_0\"]"
   ]
  },
  {
   "cell_type": "code",
   "execution_count": 6,
   "metadata": {},
   "outputs": [
    {
     "name": "stdout",
     "output_type": "stream",
     "text": [
      "Training time: 45.72 min\n",
      "RMSE train: 1.00893\n",
      "RMSE test: 1.00926\n",
      "Training time: 43.12 min\n",
      "RMSE train: 1.01378\n",
      "RMSE test: 1.01444\n",
      "Training time: 45.76 min\n",
      "RMSE train: 1.01678\n",
      "RMSE test: 1.01706\n",
      "Training time: 43.59 min\n",
      "RMSE train: 1.00887\n",
      "RMSE test: 1.00958\n",
      "Training time: 44.55 min\n",
      "RMSE train: 1.00914\n",
      "RMSE test: 1.00962\n"
     ]
    }
   ],
   "source": [
    "time_train = []\n",
    "rmse_train = []\n",
    "rmse_test = []\n",
    "\n",
    "# обучение факторизационной машины\n",
    "for train, test in cross_validation(X):\n",
    "    fm = FactorizationMachine(step = 0.1, k = 3)\n",
    "    start = time.time()\n",
    "    fm.fit(X[train], y[train], n_epoch = 1, batch_size = 512)\n",
    "    stop = time.time()\n",
    "    \n",
    "    time_train_i = (stop - start) / 60\n",
    "    print('Training time: %.2f min' % (time_train_i))\n",
    "    time_train.append(time_train_i)\n",
    "    \n",
    "# расчет метрик\n",
    "    predictions_train = fm.predict(X[train]).reshape(-1)\n",
    "    predictions_test = fm.predict(X[test]).reshape(-1)\n",
    "    rmse_train_i = rmserror(y[train], predictions_train)\n",
    "    rmse_test_i = rmserror(y[test], predictions_test)\n",
    "    \n",
    "# составление результатов\n",
    "    print('RMSE train: %.5f' % (rmse_train_i))\n",
    "    print('RMSE test: %.5f' % (rmse_test_i))\n",
    "    print()\n",
    "    rmse_train.append(rmse_train_i)\n",
    "    rmse_test.append(rmse_test_i)"
   ]
  },
  {
   "cell_type": "code",
   "execution_count": 7,
   "metadata": {},
   "outputs": [],
   "source": [
    "result_dictionary = {\n",
    "    'RMSE train': rmse_train, \n",
    "    'RMSE test': rmse_test,        \n",
    "    'Training time': time_train}\n",
    "result = pd.DataFrame(result_dictionary).T"
   ]
  },
  {
   "cell_type": "code",
   "execution_count": 8,
   "metadata": {
    "scrolled": true
   },
   "outputs": [
    {
     "data": {
      "text/html": [
       "<div>\n",
       "<style scoped>\n",
       "    .dataframe tbody tr th:only-of-type {\n",
       "        vertical-align: middle;\n",
       "    }\n",
       "\n",
       "    .dataframe tbody tr th {\n",
       "        vertical-align: top;\n",
       "    }\n",
       "\n",
       "    .dataframe thead th {\n",
       "        text-align: right;\n",
       "    }\n",
       "</style>\n",
       "<table border=\"1\" class=\"dataframe\">\n",
       "  <thead>\n",
       "    <tr style=\"text-align: right;\">\n",
       "      <th></th>\n",
       "      <th>0</th>\n",
       "      <th>1</th>\n",
       "      <th>2</th>\n",
       "      <th>3</th>\n",
       "      <th>4</th>\n",
       "    </tr>\n",
       "  </thead>\n",
       "  <tbody>\n",
       "    <tr>\n",
       "      <th>RMSE train</th>\n",
       "      <td>1.008933</td>\n",
       "      <td>1.013779</td>\n",
       "      <td>1.016778</td>\n",
       "      <td>1.008868</td>\n",
       "      <td>1.009135</td>\n",
       "    </tr>\n",
       "    <tr>\n",
       "      <th>RMSE test</th>\n",
       "      <td>1.009257</td>\n",
       "      <td>1.014444</td>\n",
       "      <td>1.017056</td>\n",
       "      <td>1.009577</td>\n",
       "      <td>1.009623</td>\n",
       "    </tr>\n",
       "    <tr>\n",
       "      <th>Training time</th>\n",
       "      <td>45.722050</td>\n",
       "      <td>43.123753</td>\n",
       "      <td>45.757117</td>\n",
       "      <td>43.585346</td>\n",
       "      <td>44.545090</td>\n",
       "    </tr>\n",
       "  </tbody>\n",
       "</table>\n",
       "</div>"
      ],
      "text/plain": [
       "                       0          1          2          3          4\n",
       "RMSE train      1.008933   1.013779   1.016778   1.008868   1.009135\n",
       "RMSE test       1.009257   1.014444   1.017056   1.009577   1.009623\n",
       "Training time  45.722050  43.123753  45.757117  43.585346  44.545090"
      ]
     },
     "execution_count": 8,
     "metadata": {},
     "output_type": "execute_result"
    }
   ],
   "source": [
    "result"
   ]
  },
  {
   "cell_type": "code",
   "execution_count": null,
   "metadata": {},
   "outputs": [],
   "source": []
  }
 ],
 "metadata": {
  "kernelspec": {
   "display_name": "Python 3",
   "language": "python",
   "name": "python3"
  },
  "language_info": {
   "codemirror_mode": {
    "name": "ipython",
    "version": 3
   },
   "file_extension": ".py",
   "mimetype": "text/x-python",
   "name": "python",
   "nbconvert_exporter": "python",
   "pygments_lexer": "ipython3",
   "version": "3.7.3"
  }
 },
 "nbformat": 4,
 "nbformat_minor": 2
}
